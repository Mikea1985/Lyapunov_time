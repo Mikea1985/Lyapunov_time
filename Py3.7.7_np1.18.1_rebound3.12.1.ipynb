{
 "cells": [
  {
   "cell_type": "code",
   "execution_count": 1,
   "metadata": {},
   "outputs": [],
   "source": [
    "'''Let's try calculating the Lyapunov timescale using Rebound!'''\n",
    "import matplotlib.pyplot as plt\n",
    "import rebound\n",
    "import numpy as np\n",
    "from numpy import radians as rd"
   ]
  },
  {
   "cell_type": "code",
   "execution_count": 2,
   "metadata": {},
   "outputs": [
    {
     "name": "stdout",
     "output_type": "stream",
     "text": [
      "Python version: 3.7.7\n",
      "\n",
      "Numpy version: 1.18.1\n",
      "\n",
      "Rebound version: 3.12.1\n"
     ]
    }
   ],
   "source": [
    "import platform\n",
    "print(\"Python version:\", platform.python_version())\n",
    "print(\"\\nNumpy version:\", np.version.version)\n",
    "print(\"\\nRebound version:\", rebound.__version__)"
   ]
  },
  {
   "cell_type": "code",
   "execution_count": 3,
   "metadata": {},
   "outputs": [
    {
     "name": "stdout",
     "output_type": "stream",
     "text": [
      "Searching NASA Horizons for 'Sun'... Found: Sun (10).\n",
      "Searching NASA Horizons for 'Mercury'... Found: Mercury Barycenter (199).\n",
      "Searching NASA Horizons for 'Venus'... Found: Venus Barycenter (299).\n",
      "Searching NASA Horizons for 'Earth'... Found: Earth-Moon Barycenter (3).\n",
      "Searching NASA Horizons for 'Mars'... Found: Mars Barycenter (4).\n",
      "Searching NASA Horizons for 'Atalante'... Found: 36 Atalante (A855 TA).\n",
      "Searching NASA Horizons for 'Jupiter'... "
     ]
    },
    {
     "name": "stderr",
     "output_type": "stream",
     "text": [
      "/home/mikea/.anaconda3/envs/mpcconda37/lib/python3.7/site-packages/rebound/horizons.py:140: RuntimeWarning: Warning: Mass cannot be retrieved from NASA HORIZONS. Set to 0.\n",
      "  warnings.warn(\"Warning: Mass cannot be retrieved from NASA HORIZONS. Set to 0.\", RuntimeWarning)\n"
     ]
    },
    {
     "name": "stdout",
     "output_type": "stream",
     "text": [
      "Found: Jupiter Barycenter (5).\n",
      "Searching NASA Horizons for 'Saturn'... Found: Saturn Barycenter (6).\n",
      "Searching NASA Horizons for 'Uranus'... Found: Uranus Barycenter (7).\n",
      "Searching NASA Horizons for 'Neptune'... Found: Neptune Barycenter (8).\n",
      "Searching NASA Horizons for 'Pluto'... Found: Pluto Barycenter (9).\n"
     ]
    }
   ],
   "source": [
    "\n",
    "# Note: Atalante is added after Mars. This is because by default WHFast uses Jacobi coordinates.\n",
    "\n",
    "bodies = ['Sun', 'Mercury', 'Venus', 'Earth', 'Mars', \"Atalante\",   # Use these bodies\n",
    "          'Jupiter', 'Saturn', 'Uranus', 'Neptune', 'Pluto']\n",
    "date = '2013-08-09 12:00'            # Start on this date\n",
    "\n",
    "# Set up simulation.\n",
    "sim = rebound.Simulation()\n",
    "sim.add(bodies, date=date)          # Add the Sun and all the planets\n",
    "sim.move_to_com()                   # Move to the center of momentum frame\n",
    "sim.save(\"Py3.7.7_np1.18.1_rebound3.12.1.bin\")"
   ]
  },
  {
   "cell_type": "code",
   "execution_count": null,
   "metadata": {},
   "outputs": [
    {
     "name": "stderr",
     "output_type": "stream",
     "text": [
      "/home/mikea/.anaconda3/envs/mpcconda37/lib/python3.7/site-packages/ipykernel_launcher.py:30: RuntimeWarning: divide by zero encountered in double_scalars\n"
     ]
    }
   ],
   "source": [
    "\n",
    "twopi = rd(360)                      # 6.283185307179586\n",
    "dt_out = 20 * twopi                  # Years * 2 Pi, output interval\n",
    "tmax = 1e5 * twopi                   # Years * 2 Pi, end time\n",
    "times = np.arange(0., tmax, dt_out)  # Output times, in units yrs * 2 Pi\n",
    "timeyr = times / twopi               # The times in human-friendly years\n",
    "megno = np.zeros(len(times))         # An empty array to store megno values\n",
    "lyapunov_CN = megno.copy()           # An empty array to store LCN values\n",
    "\n",
    "# Load in cached simulation\n",
    "sim = rebound.Simulation(\"Py3.7.7_np1.18.1_rebound3.12.1.bin\")\n",
    "\n",
    "sim.integrator = 'whfast'           # Use WHfast\n",
    "orbits = sim.calculate_orbits()     # Calculate the orbits\n",
    "sim.dt = 0.05 * orbits[0].P         # Use a timestep = 5% of Mercury's period\n",
    "\n",
    "# Create a set of variational/shadow particles\n",
    "var = sim.add_variation()\n",
    "\n",
    "# Perturb the orbit of the asteroid (particle number 5).\n",
    "# Ideally, perturb each position and velocity coordinates\n",
    "# by a random amount (here only x is perturbed).\n",
    "# Note that the initial perturbation has magnitude 1. \n",
    "var.particles[5].x = 1. \n",
    "\n",
    "# Now integrate, output, repeat.\n",
    "for i, time in enumerate(times):\n",
    "    sim.integrate(time, exact_finish_time=0)   # Integrate\n",
    "    # Calculate divergence of shadow particle\n",
    "    d = np.sqrt(np.sum(np.square(var.particles[5].xyz + var.particles[5].vxyz) ))\n",
    "    lyapunov_CN[i] = 1./time * np.abs(d)/1. # divide by initial perturbation (here 1.)\n"
   ]
  },
  {
   "cell_type": "code",
   "execution_count": null,
   "metadata": {},
   "outputs": [],
   "source": [
    "# Make some plots\n",
    "# First, the LCN vs time.\n",
    "plt.plot(timeyr, lyapunov_CN)\n",
    "plt.xlabel('Time (yr)')\n",
    "plt.ylabel('Lyapunov Characteristic Number (2pi/yr)')\n",
    "plt.xscale('log')\n",
    "plt.yscale('log')"
   ]
  },
  {
   "cell_type": "code",
   "execution_count": null,
   "metadata": {
    "scrolled": false
   },
   "outputs": [],
   "source": [
    "# Make some plots\n",
    "plt.plot(timeyr, 1 / np.array(lyapunov_CN)/twopi)\n",
    "plt.xlabel('Time (yr)')\n",
    "plt.ylabel('Lyapunov Time = 1 / (Lyapunov Characteristic Number) [year]')\n",
    "plt.yscale('log')\n",
    "plt.xscale('log')\n",
    "plt.show()\n"
   ]
  },
  {
   "cell_type": "code",
   "execution_count": null,
   "metadata": {},
   "outputs": [],
   "source": []
  }
 ],
 "metadata": {
  "kernelspec": {
   "display_name": "Python 3",
   "language": "python",
   "name": "python3"
  },
  "language_info": {
   "codemirror_mode": {
    "name": "ipython",
    "version": 3
   },
   "file_extension": ".py",
   "mimetype": "text/x-python",
   "name": "python",
   "nbconvert_exporter": "python",
   "pygments_lexer": "ipython3",
   "version": "3.7.7"
  }
 },
 "nbformat": 4,
 "nbformat_minor": 5
}
